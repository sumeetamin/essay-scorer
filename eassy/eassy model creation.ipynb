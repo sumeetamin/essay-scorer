{
 "cells": [
  {
   "cell_type": "code",
   "execution_count": 3,
   "id": "c5bc8a5b",
   "metadata": {},
   "outputs": [
    {
     "name": "stdout",
     "output_type": "stream",
     "text": [
      "Model saved to essay_scoring_model.joblib\n"
     ]
    }
   ],
   "source": [
    "import re\n",
    "import pandas as pd\n",
    "from sklearn.model_selection import train_test_split\n",
    "from sklearn.feature_extraction.text import TfidfVectorizer\n",
    "from sklearn.linear_model import LinearRegression\n",
    "from sklearn.pipeline import Pipeline\n",
    "from joblib import dump\n",
    "\n",
    "# Data cleaning function\n",
    "def clean_text(text):\n",
    "    text = text.lower()  # Convert to lowercase\n",
    "    text = re.sub(r'\\W', ' ', text)  # Remove special characters\n",
    "    text = re.sub(r'\\s+', ' ', text, flags=re.I)  # Replace multiple spaces with a single space\n",
    "    text = re.sub(r'\\d', '', text)  # Remove digits\n",
    "    return text\n",
    "\n",
    "# Function to load the dataset, train the model, and save it\n",
    "def train_and_save_model(file_path='training_set_rel3.xlsx', model_path='essay_scoring_model.joblib'):\n",
    "    # Load the dataset\n",
    "    data = pd.read_excel(file_path)\n",
    "    data['essay'] = data['essay'].apply(clean_text)\n",
    "    data = data.dropna(subset=['domain1_score'])\n",
    "    \n",
    "    # Set up the feature extraction and model training pipeline\n",
    "    vectorizer = TfidfVectorizer(min_df=5, max_df=0.95, max_features=3000)\n",
    "    X = data['essay']\n",
    "    y = data['domain1_score'].astype(float)\n",
    "    \n",
    "    # Split the data\n",
    "    X_train, X_test, y_train, y_test = train_test_split(X, y, test_size=0.2, random_state=42)\n",
    "    \n",
    "    # Define the model pipeline\n",
    "    model = Pipeline([\n",
    "        ('vectorizer', vectorizer),\n",
    "        ('regressor', LinearRegression())\n",
    "    ])\n",
    "    \n",
    "    # Train the model\n",
    "    model.fit(X_train, y_train)\n",
    "    \n",
    "    # Save the trained model\n",
    "    dump(model, model_path)\n",
    "    print(f\"Model saved to {model_path}\")\n",
    "\n",
    "# Specify the path to your dataset and where you want to save the model\n",
    "dataset_path = 'training_set_rel3.xlsx'  # Update this path\n",
    "model_save_path = 'essay_scoring_model.joblib'\n",
    "\n",
    "# Train and save the model\n",
    "train_and_save_model(dataset_path, model_save_path)\n"
   ]
  },
  {
   "cell_type": "code",
   "execution_count": null,
   "id": "31e22d1d",
   "metadata": {},
   "outputs": [],
   "source": []
  }
 ],
 "metadata": {
  "kernelspec": {
   "display_name": "Python 3 (ipykernel)",
   "language": "python",
   "name": "python3"
  },
  "language_info": {
   "codemirror_mode": {
    "name": "ipython",
    "version": 3
   },
   "file_extension": ".py",
   "mimetype": "text/x-python",
   "name": "python",
   "nbconvert_exporter": "python",
   "pygments_lexer": "ipython3",
   "version": "3.9.12"
  }
 },
 "nbformat": 4,
 "nbformat_minor": 5
}
